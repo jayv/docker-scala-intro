{
 "cells": [
  {
   "cell_type": "markdown",
   "metadata": {},
   "source": [
    "# Intro to Scala\n",
    "### by Jo Voordeckers (@jayv)\n",
    "\n",
    "This is a short interactive intro to scala to show the benefits of the language without wasting too much time to setup a lot of tooling.\n",
    "\n",
    "### Recommended followup reads\n",
    "* http://twitter.github.io/scala_school/\n",
    "* http://danielwestheide.com/scala/neophytes.html\n",
    "\n",
    "### Recommended tools\n",
    "* [IntelliJ IDEA Ultimate](https://www.jetbrains.com/idea/)\n",
    "* scala 2.11.x REPL - *brew install scala*\n",
    "* zinc (scala compile server) - *brew install zinc*\n",
    "* maven 3 and plugins - *brew install maven* + [pom.xml](https://github.com/jayv/docker-scala-intro/) here\n",
    "    * net.alchim31.maven:scala-maven-plugin\n",
    "    * org.scalatest:scalatest\n",
    "    * org.scalamock:scalamock\n",
    "    * org.scoverage:scoverage-maven-plugin\n"
   ]
  },
  {
   "cell_type": "markdown",
   "metadata": {},
   "source": [
    "## Base data types - no primitives!\n",
    "* Int, Long, Float, Double\n",
    "* String\n",
    "* Byte\n",
    "* Array[`<type>`]\n",
    "* Any, AnyRef (aka Object) \n",
    "* Unit (aka void)\n",
    "\n",
    "## Case classes (named tuples)\n",
    "```scala\n",
    "case class Person(name:String, age:Int)\n",
    "\n",
    "val mike = Person(\"Mike S.\", 21)\n",
    "```\n",
    "\n",
    "## Full blown classes (like Java)\n",
    "```scala\n",
    "class Car(val model:String) {\n",
    "\n",
    "    var speed:Int = 0\n",
    "\n",
    "    def drive():Unit = speed = 10\n",
    "  \n",
    "    def stop():Unit = speed = 0\n",
    "}\n",
    "\n",
    "val bimmer = new Car(\"BMW\")\n",
    "bimmer.drive()\n",
    "bimmer.stop()\n",
    "```"
   ]
  },
  {
   "cell_type": "code",
   "execution_count": 11,
   "metadata": {
    "collapsed": false
   },
   "outputs": [
    {
     "data": {
      "text/plain": [
       "defined \u001b[32mclass \u001b[36mPerson\u001b[0m\n",
       "\u001b[36mmike\u001b[0m: \u001b[32m$user\u001b[0m.\u001b[32mPerson\u001b[0m = \u001b[33mPerson\u001b[0m(\u001b[32m\"Mike S.\"\u001b[0m, \u001b[32m21\u001b[0m)\n",
       "defined \u001b[32mclass \u001b[36mCar\u001b[0m\n",
       "\u001b[36mbimmer\u001b[0m: \u001b[32m$user\u001b[0m.\u001b[32mCar\u001b[0m = cmd10$$user$Car@46c78899\n",
       "\u001b[36mres10_4\u001b[0m: \u001b[32mInt\u001b[0m = \u001b[32m0\u001b[0m\n",
       "\u001b[36mres10_6\u001b[0m: \u001b[32mInt\u001b[0m = \u001b[32m10\u001b[0m\n",
       "\u001b[36mres10_8\u001b[0m: \u001b[32mInt\u001b[0m = \u001b[32m0\u001b[0m\n",
       "\u001b[36mres10_9\u001b[0m: \u001b[32mString\u001b[0m = \u001b[32m\"BMW\"\u001b[0m"
      ]
     },
     "metadata": {},
     "output_type": "display_data"
    }
   ],
   "source": [
    "case class Person(name:String, age:Int)\n",
    "\n",
    "val mike = Person(\"Mike S.\", 21) \n",
    "\n",
    "class Car(val model:String) {\n",
    "\n",
    "    var speed:Int = 0\n",
    "\n",
    "    def drive():Unit = speed = 10\n",
    "\n",
    "    def stop():Unit = speed = 0\n",
    "}\n",
    "\n",
    "val bimmer = new Car(\"BMW\")\n",
    "bimmer.speed\n",
    "\n",
    "bimmer.drive()\n",
    "bimmer.speed\n",
    "\n",
    "bimmer.stop()\n",
    "bimmer.speed\n",
    "\n",
    "bimmer.model"
   ]
  },
  {
   "cell_type": "markdown",
   "metadata": {},
   "source": [
    "### Notice *val* vs *var* vs *case class*"
   ]
  },
  {
   "cell_type": "code",
   "execution_count": 9,
   "metadata": {
    "collapsed": false
   },
   "outputs": [
    {
     "data": {
      "text/plain": [
       "\u001b[36mres8_1\u001b[0m: \u001b[32mInt\u001b[0m = \u001b[32m999\u001b[0m"
      ]
     },
     "metadata": {},
     "output_type": "display_data"
    }
   ],
   "source": [
    "bimmer.speed = 999\n",
    "bimmer.speed"
   ]
  },
  {
   "cell_type": "code",
   "execution_count": 9,
   "metadata": {
    "collapsed": false
   },
   "outputs": [
    {
     "ename": "",
     "evalue": "",
     "output_type": "error",
     "traceback": [
      "\u001b[31mMain.scala:25: reassignment to val",
      "bimmer.model = \"Toyota\"",
      "             ^\u001b[0m"
     ]
    }
   ],
   "source": [
    "bimmer.model = \"Toyota\""
   ]
  },
  {
   "cell_type": "code",
   "execution_count": 11,
   "metadata": {
    "collapsed": false
   },
   "outputs": [
    {
     "ename": "",
     "evalue": "",
     "output_type": "error",
     "traceback": [
      "\u001b[31mMain.scala:25: reassignment to val",
      "mike.name = \"James\"",
      "          ^\u001b[0m"
     ]
    }
   ],
   "source": [
    "mike.name = \"James\""
   ]
  },
  {
   "cell_type": "code",
   "execution_count": null,
   "metadata": {
    "collapsed": true
   },
   "outputs": [],
   "source": []
  }
 ],
 "metadata": {
  "kernelspec": {
   "display_name": "Scala 2.11",
   "language": "scala211",
   "name": "scala211"
  },
  "language_info": {
   "codemirror_mode": "text/x-scala",
   "file_extension": ".scala",
   "mimetype": "text/x-scala",
   "name": "scala211",
   "pygments_lexer": "scala",
   "version": "2.11.7"
  }
 },
 "nbformat": 4,
 "nbformat_minor": 1
}

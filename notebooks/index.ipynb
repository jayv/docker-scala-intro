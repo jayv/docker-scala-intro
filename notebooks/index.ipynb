{
 "cells": [
  {
   "cell_type": "markdown",
   "metadata": {},
   "source": [
    "# Intro to Scala\n",
    "The Object-Functional programming language\n",
    "### by Jo Voordeckers (@jovoordeckers on twitter)\n",
    "---\n",
    "\n",
    "This is a short interactive intro to scala to show the benefits of the language without wasting too much time to setup a lot of tooling.\n",
    "\n",
    "## TOC\n",
    "* [Basics](basics.ipynb)\n",
    "\n",
    "\n",
    "### References\n",
    "This intro borrows work from\n",
    "* http://twitter.github.io/scala_school/\n",
    "* http://danielwestheide.com/scala/neophytes.html\n",
    "\n",
    "### Recommended tools\n",
    "* [IntelliJ IDEA Ultimate](https://www.jetbrains.com/idea/)\n",
    "* scala 2.11.x REPL - *brew install scala*\n",
    "* zinc (scala compile server) - *brew install zinc*\n",
    "* maven 3 and plugins - *brew install maven* + [pom.xml](https://github.com/jayv/docker-scala-intro/) here"
   ]
  }
 ],
 "metadata": {
  "kernelspec": {
   "display_name": "Scala 2.11",
   "language": "scala211",
   "name": "scala211"
  },
  "language_info": {
   "codemirror_mode": "text/x-scala",
   "file_extension": ".scala",
   "mimetype": "text/x-scala",
   "name": "scala211",
   "pygments_lexer": "scala",
   "version": "2.11.7"
  }
 },
 "nbformat": 4,
 "nbformat_minor": 1
}

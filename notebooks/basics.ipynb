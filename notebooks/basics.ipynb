{
 "cells": [
  {
   "cell_type": "markdown",
   "metadata": {},
   "source": [
    "## Basics\n",
    "### Data types\n",
    "Everything is an object, no primitives, type-safety!\n",
    "* Int, Long, Float, Double\n",
    "* String\n",
    "* Byte\n",
    "* Array[`<type>`]\n",
    "* Any, AnyRef (aka Object) \n",
    "* Unit (aka void)"
   ]
  },
  {
   "cell_type": "markdown",
   "metadata": {},
   "source": [
    "### Expressions\n",
    "Almost everything in scala is an expression"
   ]
  },
  {
   "cell_type": "code",
   "execution_count": 34,
   "metadata": {
    "collapsed": false
   },
   "outputs": [
    {
     "data": {
      "text/plain": [
       "\u001b[36mres33\u001b[0m: \u001b[32mInt\u001b[0m = \u001b[32m2\u001b[0m"
      ]
     },
     "metadata": {},
     "output_type": "display_data"
    }
   ],
   "source": [
    "1 + 1"
   ]
  },
  {
   "cell_type": "code",
   "execution_count": 35,
   "metadata": {
    "collapsed": false
   },
   "outputs": [
    {
     "data": {
      "text/plain": [
       "\u001b[36mres34\u001b[0m: \u001b[32mInt\u001b[0m = \u001b[32m1\u001b[0m"
      ]
     },
     "metadata": {},
     "output_type": "display_data"
    }
   ],
   "source": [
    "if (true) 1 else 2"
   ]
  },
  {
   "cell_type": "markdown",
   "metadata": {},
   "source": [
    "### Values\n",
    "Give the result of an expression a name, immutable"
   ]
  },
  {
   "cell_type": "code",
   "execution_count": 36,
   "metadata": {
    "collapsed": false
   },
   "outputs": [
    {
     "data": {
      "text/plain": [
       "\u001b[36mtwo\u001b[0m: \u001b[32mInt\u001b[0m = \u001b[32m2\u001b[0m"
      ]
     },
     "metadata": {},
     "output_type": "display_data"
    }
   ],
   "source": [
    "val two = 1 + 1"
   ]
  },
  {
   "cell_type": "markdown",
   "metadata": {},
   "source": [
    "### Variables\n",
    "Mutable value bindings"
   ]
  },
  {
   "cell_type": "code",
   "execution_count": 37,
   "metadata": {
    "collapsed": false
   },
   "outputs": [
    {
     "data": {
      "text/plain": [
       "\u001b[36mname\u001b[0m: \u001b[32mString\u001b[0m = \u001b[32m\"marius\"\u001b[0m\n",
       "\u001b[36mres36_1\u001b[0m: \u001b[32mString\u001b[0m = \u001b[32m\"steve\"\u001b[0m"
      ]
     },
     "metadata": {},
     "output_type": "display_data"
    }
   ],
   "source": [
    "var name = \"steve\"\n",
    "name\n",
    "name = \"marius\""
   ]
  },
  {
   "cell_type": "markdown",
   "metadata": {},
   "source": [
    "## Functions\n",
    "Create a function with **def**, specify type for parameters"
   ]
  },
  {
   "cell_type": "code",
   "execution_count": 38,
   "metadata": {
    "collapsed": false
   },
   "outputs": [
    {
     "data": {
      "text/plain": [
       "defined \u001b[32mfunction \u001b[36maddOne\u001b[0m"
      ]
     },
     "metadata": {},
     "output_type": "display_data"
    }
   ],
   "source": [
    "def addOne(m: Int): Int = m + 1"
   ]
  },
  {
   "cell_type": "markdown",
   "metadata": {},
   "source": [
    "You can leave off parens on functions with no arguments."
   ]
  },
  {
   "cell_type": "code",
   "execution_count": 39,
   "metadata": {
    "collapsed": false
   },
   "outputs": [
    {
     "data": {
      "text/plain": [
       "defined \u001b[32mfunction \u001b[36mthree\u001b[0m\n",
       "\u001b[36mres38_1\u001b[0m: \u001b[32mInt\u001b[0m = \u001b[32m3\u001b[0m\n",
       "\u001b[36mres38_2\u001b[0m: \u001b[32mInt\u001b[0m = \u001b[32m3\u001b[0m"
      ]
     },
     "metadata": {},
     "output_type": "display_data"
    }
   ],
   "source": [
    "def three() = 1 + 2\n",
    "three()\n",
    "three"
   ]
  },
  {
   "cell_type": "markdown",
   "metadata": {},
   "source": [
    "Larger functions can have a body with **{ }**"
   ]
  },
  {
   "cell_type": "code",
   "execution_count": 40,
   "metadata": {
    "collapsed": false
   },
   "outputs": [
    {
     "data": {
      "text/plain": [
       "defined \u001b[32mfunction \u001b[36mtimesTwo\u001b[0m"
      ]
     },
     "metadata": {},
     "output_type": "display_data"
    }
   ],
   "source": [
    "def timesTwo(i: Int): Int = {\n",
    "  i * 2\n",
    "}"
   ]
  },
  {
   "cell_type": "markdown",
   "metadata": {},
   "source": [
    "### Anonymous functions \"=>\"\n",
    "You can create anonymous functions, pass anonymous functions around or save them into **val**s."
   ]
  },
  {
   "cell_type": "code",
   "execution_count": 41,
   "metadata": {
    "collapsed": false
   },
   "outputs": [
    {
     "data": {
      "text/plain": [
       "\u001b[36mres40_0\u001b[0m: \u001b[32mInt\u001b[0m => \u001b[32mInt\u001b[0m = <function1>\n",
       "\u001b[36mres40_1\u001b[0m: \u001b[32mInt\u001b[0m = \u001b[32m4\u001b[0m"
      ]
     },
     "metadata": {},
     "output_type": "display_data"
    }
   ],
   "source": [
    "(x: Int) => x + 1\n",
    "\n",
    "((x: Int) => x + 1) (3)"
   ]
  },
  {
   "cell_type": "markdown",
   "metadata": {},
   "source": [
    "Anonymous functions can have a body too"
   ]
  },
  {
   "cell_type": "code",
   "execution_count": 54,
   "metadata": {
    "collapsed": false
   },
   "outputs": [
    {
     "data": {
      "text/plain": [
       "\u001b[36manon\u001b[0m: \u001b[32mInt\u001b[0m => \u001b[32mInt\u001b[0m = <function1>"
      ]
     },
     "metadata": {},
     "output_type": "display_data"
    }
   ],
   "source": [
    "val anon = { i: Int => \n",
    "  println(\"hello world\")\n",
    "  i * 2 \n",
    "}"
   ]
  },
  {
   "cell_type": "markdown",
   "metadata": {},
   "source": [
    "This syntax is often used to pass functions as arguments (lambda)"
   ]
  },
  {
   "cell_type": "markdown",
   "metadata": {},
   "source": [
    "### Partial application and currying (advanced)\n",
    "Allows you to define a new function with partial parameter application, note the **_**"
   ]
  },
  {
   "cell_type": "code",
   "execution_count": 42,
   "metadata": {
    "collapsed": false
   },
   "outputs": [
    {
     "data": {
      "text/plain": [
       "defined \u001b[32mfunction \u001b[36mmultiply\u001b[0m\n",
       "\u001b[36msix\u001b[0m: \u001b[32mInt\u001b[0m = \u001b[32m6\u001b[0m"
      ]
     },
     "metadata": {},
     "output_type": "display_data"
    }
   ],
   "source": [
    "def multiply(m:Int)(n:Int):Int = m * n\n",
    "val six = multiply(2)(3)"
   ]
  },
  {
   "cell_type": "code",
   "execution_count": 43,
   "metadata": {
    "collapsed": false,
    "scrolled": true
   },
   "outputs": [
    {
     "data": {
      "text/plain": [
       "\u001b[36mtimesTwo\u001b[0m: \u001b[32mInt\u001b[0m => \u001b[32mInt\u001b[0m = <function1>\n",
       "\u001b[36mres42_1\u001b[0m: \u001b[32mInt\u001b[0m = \u001b[32m6\u001b[0m\n",
       "\u001b[36mres42_2\u001b[0m: \u001b[32mInt\u001b[0m => \u001b[32mInt\u001b[0m = <function1>"
      ]
     },
     "metadata": {},
     "output_type": "display_data"
    }
   ],
   "source": [
    "val timesTwo = multiply(2) _\n",
    "timesTwo(3)\n",
    "timesTwo"
   ]
  },
  {
   "cell_type": "markdown",
   "metadata": {},
   "source": [
    "Turn any function with multiple params into a curried function"
   ]
  },
  {
   "cell_type": "code",
   "execution_count": 44,
   "metadata": {
    "collapsed": false
   },
   "outputs": [
    {
     "data": {
      "text/plain": [
       "defined \u001b[32mfunction \u001b[36madder\u001b[0m\n",
       "\u001b[36maddTwo\u001b[0m: \u001b[32mInt\u001b[0m => \u001b[32mInt\u001b[0m = <function1>\n",
       "\u001b[36mres43_2\u001b[0m: \u001b[32mInt\u001b[0m = \u001b[32m10\u001b[0m"
      ]
     },
     "metadata": {},
     "output_type": "display_data"
    }
   ],
   "source": [
    "def adder(a:Int, b:Int):Int = a + b\n",
    "val addTwo = (adder _).curried(2)\n",
    "addTwo(8)"
   ]
  },
  {
   "cell_type": "markdown",
   "metadata": {},
   "source": [
    "### Variable length args\n",
    "Syntax for methods that can take parameters of a repeated type. "
   ]
  },
  {
   "cell_type": "code",
   "execution_count": 45,
   "metadata": {
    "collapsed": false
   },
   "outputs": [
    {
     "data": {
      "text/plain": [
       "defined \u001b[32mfunction \u001b[36mcapitalizeAll\u001b[0m\n",
       "\u001b[36mres44_1\u001b[0m: \u001b[32mSeq\u001b[0m[\u001b[32mString\u001b[0m] = \u001b[33mArrayBuffer\u001b[0m(\u001b[32m\"Abc\"\u001b[0m, \u001b[32m\"Def\"\u001b[0m)"
      ]
     },
     "metadata": {},
     "output_type": "display_data"
    }
   ],
   "source": [
    "def capitalizeAll(args: String*) = {\n",
    "  args.map { arg =>\n",
    "    arg.capitalize\n",
    "  }\n",
    "}\n",
    "capitalizeAll(\"abc\", \"def\")"
   ]
  },
  {
   "cell_type": "markdown",
   "metadata": {},
   "source": [
    "## Classes"
   ]
  },
  {
   "cell_type": "markdown",
   "metadata": {},
   "source": [
    "Regular classes, like Java, with optional constructor args."
   ]
  },
  {
   "cell_type": "code",
   "execution_count": 46,
   "metadata": {
    "collapsed": false
   },
   "outputs": [
    {
     "data": {
      "text/plain": [
       "defined \u001b[32mclass \u001b[36mCar\u001b[0m\n",
       "\u001b[36mbimmer\u001b[0m: \u001b[32m$user\u001b[0m.\u001b[32mCar\u001b[0m = cmd45$$user$Car@43eba2d6\n",
       "\u001b[36mres45_2\u001b[0m: \u001b[32mInt\u001b[0m = \u001b[32m10\u001b[0m\n",
       "\u001b[36mres45_4\u001b[0m: \u001b[32mInt\u001b[0m = \u001b[32m20\u001b[0m"
      ]
     },
     "metadata": {},
     "output_type": "display_data"
    }
   ],
   "source": [
    "class Car(val model:String) {\n",
    "    var speed:Int = 10\n",
    "    def drive():Unit = speed += 10\n",
    "}\n",
    "\n",
    "val bimmer = new Car(\"BMW\")\n",
    "bimmer.speed\n",
    "\n",
    "bimmer.drive()\n",
    "bimmer.speed"
   ]
  },
  {
   "cell_type": "code",
   "execution_count": 47,
   "metadata": {
    "collapsed": false
   },
   "outputs": [
    {
     "data": {
      "text/plain": [
       "\u001b[36mres46_1\u001b[0m: \u001b[32mInt\u001b[0m = \u001b[32m999\u001b[0m"
      ]
     },
     "metadata": {},
     "output_type": "display_data"
    }
   ],
   "source": [
    "bimmer.speed = 999\n",
    "bimmer.speed"
   ]
  },
  {
   "cell_type": "code",
   "execution_count": 48,
   "metadata": {
    "collapsed": false
   },
   "outputs": [
    {
     "data": {
      "text/plain": [
       "\u001b[36mres47\u001b[0m: \u001b[32mString\u001b[0m = \u001b[32m\"BMW\"\u001b[0m"
      ]
     },
     "metadata": {},
     "output_type": "display_data"
    }
   ],
   "source": [
    "bimmer.model"
   ]
  },
  {
   "cell_type": "code",
   "execution_count": 48,
   "metadata": {
    "collapsed": false
   },
   "outputs": [
    {
     "ename": "",
     "evalue": "",
     "output_type": "error",
     "traceback": [
      "\u001b[31mMain.scala:25: reassignment to val",
      "bimmer.model = \"Toyota\" // Doesn't compile",
      "             ^\u001b[0m"
     ]
    }
   ],
   "source": [
    "bimmer.model = \"Toyota\" // Doesn't compile"
   ]
  },
  {
   "cell_type": "markdown",
   "metadata": {},
   "source": [
    "### CASE classes\n",
    "Immutable value objects, with out of the box toString, equals and hashCode, often used with pattern matching."
   ]
  },
  {
   "cell_type": "code",
   "execution_count": 49,
   "metadata": {
    "collapsed": false
   },
   "outputs": [
    {
     "data": {
      "text/plain": [
       "defined \u001b[32mclass \u001b[36mPerson\u001b[0m\n",
       "\u001b[36mmike\u001b[0m: \u001b[32m$user\u001b[0m.\u001b[32mPerson\u001b[0m = \u001b[33mPerson\u001b[0m(\u001b[32m\"Mike\"\u001b[0m, \u001b[32m21\u001b[0m)"
      ]
     },
     "metadata": {},
     "output_type": "display_data"
    }
   ],
   "source": [
    "case class Person(name:String, age:Int)\n",
    "\n",
    "val mike = Person(\"Mike\", 21) "
   ]
  },
  {
   "cell_type": "code",
   "execution_count": 49,
   "metadata": {
    "collapsed": false,
    "scrolled": true
   },
   "outputs": [
    {
     "ename": "",
     "evalue": "",
     "output_type": "error",
     "traceback": [
      "\u001b[31mMain.scala:25: reassignment to val",
      "mike.name = \"James\" // Doesn't compile",
      "          ^\u001b[0m"
     ]
    }
   ],
   "source": [
    "mike.name = \"James\" // Doesn't compile"
   ]
  },
  {
   "cell_type": "markdown",
   "metadata": {},
   "source": [
    "### Inheritance\n",
    "Extend behavior, override values and functions/methods."
   ]
  },
  {
   "cell_type": "code",
   "execution_count": 50,
   "metadata": {
    "collapsed": false
   },
   "outputs": [
    {
     "data": {
      "text/plain": [
       "defined \u001b[32mclass \u001b[36mSuperCar\u001b[0m\n",
       "\u001b[36msc\u001b[0m: \u001b[32m$user\u001b[0m.\u001b[32mSuperCar\u001b[0m = cmd49$$user$SuperCar@4b576cda\n",
       "\u001b[36mres49_2\u001b[0m: \u001b[32mString\u001b[0m = \u001b[32m\"Ferrari\"\u001b[0m\n",
       "\u001b[36mres49_4\u001b[0m: \u001b[32mInt\u001b[0m = \u001b[32m20\u001b[0m"
      ]
     },
     "metadata": {},
     "output_type": "display_data"
    }
   ],
   "source": [
    "class SuperCar extends Car(\"Ferrari\") {\n",
    "  override def drive = speed *= 2\n",
    "}\n",
    "val sc = new SuperCar\n",
    "sc.model\n",
    "sc.drive\n",
    "sc.speed"
   ]
  },
  {
   "cell_type": "markdown",
   "metadata": {},
   "source": [
    "### Abstarct classes\n",
    "Defines some values and behavior but not all, you can't instantiate these, but provide constructor args."
   ]
  },
  {
   "cell_type": "code",
   "execution_count": 51,
   "metadata": {
    "collapsed": false
   },
   "outputs": [
    {
     "data": {
      "text/plain": [
       "defined \u001b[32mclass \u001b[36mShape\u001b[0m\n",
       "defined \u001b[32mclass \u001b[36mCircle\u001b[0m\n",
       "\u001b[36mc\u001b[0m: \u001b[32m$user\u001b[0m.\u001b[32mCircle\u001b[0m = cmd50$$user$Circle@1a07596c"
      ]
     },
     "metadata": {},
     "output_type": "display_data"
    }
   ],
   "source": [
    "abstract class Shape {\n",
    "  def getArea():Int    // subclass should define this\n",
    "}\n",
    "\n",
    "class Circle(r: Int) extends Shape {\n",
    "  def getArea():Int = { r * r * 3 }\n",
    "}\n",
    "\n",
    "val c = new Circle(2)"
   ]
  },
  {
   "cell_type": "code",
   "execution_count": 51,
   "metadata": {
    "collapsed": false
   },
   "outputs": [
    {
     "ename": "",
     "evalue": "",
     "output_type": "error",
     "traceback": [
      "\u001b[31mMain.scala:25: class Shape is abstract; cannot be instantiated",
      "new Shape // Can't instantiate ",
      "^\u001b[0m"
     ]
    }
   ],
   "source": [
    "val s = new Shape // Can't instantiate"
   ]
  },
  {
   "cell_type": "markdown",
   "metadata": {},
   "source": [
    "### Traits\n",
    "Fields and behaviors that you can extend or **mixin** to your classes, close to Java interfaces. Classes can mixin multiple traits but only inherit from a **single** (abstract) class."
   ]
  },
  {
   "cell_type": "code",
   "execution_count": 52,
   "metadata": {
    "collapsed": false,
    "scrolled": true
   },
   "outputs": [
    {
     "data": {
      "text/plain": [
       "defined \u001b[32mtrait \u001b[36mShiny\u001b[0m\n",
       "defined \u001b[32mclass \u001b[36mBMW\u001b[0m\n",
       "\u001b[36mshiny\u001b[0m: \u001b[32m$user\u001b[0m.\u001b[32mShiny\u001b[0m = cmd51$$user$BMW@28d4b35f\n",
       "\u001b[36mres51_3\u001b[0m: \u001b[32mInt\u001b[0m = \u001b[32m12\u001b[0m"
      ]
     },
     "metadata": {},
     "output_type": "display_data"
    }
   ],
   "source": [
    "trait Shiny {\n",
    "  val shineRefraction: Int\n",
    "}\n",
    "class BMW extends Car(\"BMW\") with Shiny {\n",
    "  val shineRefraction = 12\n",
    "}\n",
    "val shiny:Shiny = new BMW\n",
    "shiny.shineRefraction"
   ]
  },
  {
   "cell_type": "code",
   "execution_count": 52,
   "metadata": {
    "collapsed": false
   },
   "outputs": [
    {
     "ename": "",
     "evalue": "",
     "output_type": "error",
     "traceback": [
      "\u001b[31mMain.scala:26: class Lada needs to be abstract, since value shineRefraction in trait Shiny of type Int is not defined",
      "              class Lada extends Car(\"Lada\") with Shiny {}",
      "                    ^\u001b[0m"
     ]
    }
   ],
   "source": [
    "class Lada extends Car(\"Lada\") with Shiny {} // Doesn't compile, shineRefraction undefined! "
   ]
  },
  {
   "cell_type": "markdown",
   "metadata": {},
   "source": [
    "## Types (advanced)\n",
    "Classes and traits can have generic types, collection classes are common use cases for generic types."
   ]
  },
  {
   "cell_type": "code",
   "execution_count": 53,
   "metadata": {
    "collapsed": false
   },
   "outputs": [
    {
     "data": {
      "text/plain": [
       "\u001b[36mcars\u001b[0m: \u001b[32mList\u001b[0m[\u001b[32mCar\u001b[0m] = \u001b[33mList\u001b[0m(cmd51$$user$BMW@6b373818, cmd49$$user$SuperCar@4b576cda)"
      ]
     },
     "metadata": {},
     "output_type": "display_data"
    }
   ],
   "source": [
    "val cars: List[Car] = List(new BMW, sc)"
   ]
  },
  {
   "cell_type": "code",
   "execution_count": 53,
   "metadata": {
    "collapsed": false
   },
   "outputs": [
    {
     "ename": "",
     "evalue": "",
     "output_type": "error",
     "traceback": [
      "\u001b[31mMain.scala:33: type mismatch;",
      " found   : List[Object]",
      " required: List[cmd53.this.$ref$cmd45.Car]",
      "}.apply",
      "  ^\u001b[0m"
     ]
    }
   ],
   "source": [
    "val cars: List[Car] = List(new BMW, sc, shiny) // Won't compile, a \"shiny\" is not a Car"
   ]
  }
 ],
 "metadata": {
  "kernelspec": {
   "display_name": "Scala 2.11",
   "language": "scala211",
   "name": "scala211"
  },
  "language_info": {
   "codemirror_mode": "text/x-scala",
   "file_extension": ".scala",
   "mimetype": "text/x-scala",
   "name": "scala211",
   "pygments_lexer": "scala",
   "version": "2.11.7"
  }
 },
 "nbformat": 4,
 "nbformat_minor": 1
}
